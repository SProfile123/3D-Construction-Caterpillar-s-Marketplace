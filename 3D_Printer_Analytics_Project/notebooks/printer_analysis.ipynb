
{
 "cells": [
  {
   "cell_type": "markdown",
   "metadata": {},
   "source": [
    "# 3D Printer Marketplace Analysis\n",
    "This notebook analyzes how printer settings affect success rates and output quality."
   ]
  },
  {
   "cell_type": "code",
   "execution_count": null,
   "metadata": {},
   "outputs": [],
   "source": [
    "import pandas as pd\n",
    "import matplotlib.pyplot as plt\n",
    "import seaborn as sns\n",
    "\n",
    "df = pd.read_csv('../data/3d_printer_data_cleaned.csv')\n",
    "df.dropna(inplace=True)\n",
    "sns.heatmap(df.corr(), annot=True)\n",
    "plt.title('Parameter Correlation Heatmap')\n",
    "plt.show()"
   ]
  }
 ],
 "metadata": {
  "kernelspec": {
   "display_name": "Python 3",
   "language": "python",
   "name": "python3"
  },
  "language_info": {
   "name": "python",
   "version": "3.9"
  }
 },
 "nbformat": 4,
 "nbformat_minor": 2
}
